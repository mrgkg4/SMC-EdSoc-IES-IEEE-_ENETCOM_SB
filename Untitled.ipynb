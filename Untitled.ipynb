{
 "cells": [
  {
   "cell_type": "code",
   "execution_count": 1,
   "id": "4cb3f101-0449-49ee-b82d-1f82f6b353e1",
   "metadata": {},
   "outputs": [],
   "source": [
    "import ipywidgets as widgets\n",
    "import serial"
   ]
  },
  {
   "cell_type": "code",
   "execution_count": 9,
   "id": "97a1b266-19a3-40ab-b21c-62285adb9d5b",
   "metadata": {},
   "outputs": [],
   "source": [
    "ser = serial.Serial('COM3',9600, timeout=1)"
   ]
  },
  {
   "cell_type": "code",
   "execution_count": 5,
   "id": "fc95923a-8a49-44bc-a5f0-403a0e57ef34",
   "metadata": {
    "tags": []
   },
   "outputs": [],
   "source": [
    "commands=[]"
   ]
  },
  {
   "cell_type": "code",
   "execution_count": 10,
   "id": "b37252bd-2ec2-4730-a305-7d7610e221a7",
   "metadata": {
    "tags": []
   },
   "outputs": [
    {
     "data": {
      "application/vnd.jupyter.widget-view+json": {
       "model_id": "ea49f5ad29d44e85a1418c13a9cb0470",
       "version_major": 2,
       "version_minor": 0
      },
      "text/plain": [
       "GridspecLayout(children=(IntSlider(value=0, description='Base:', layout=Layout(grid_area='widget001'), max=180…"
      ]
     },
     "metadata": {},
     "output_type": "display_data"
    }
   ],
   "source": [
    "baseSlider=widgets.IntSlider(min=-180,max=180,step=1,description='Base:',value=0)\n",
    "shoulderSlider=widgets.IntSlider(min=-90,max=90,step=1,description='Shoulder:',value=0)\n",
    "elbowSlider=widgets.IntSlider(min=-180,max=180,step=1,description='Elbow:',value=0)\n",
    "wrist1Slider=widgets.IntSlider(min=-180,max=180,step=1,description='Wrist1:',value=0)\n",
    "wrist2Slider=widgets.IntSlider(min=-180,max=180,step=1,description='Wrist2:',value=0)\n",
    "wrist3Slider=widgets.IntSlider(min=-180,max=180,step=1,description='Wrist3:',value=0)\n",
    "addToCommands = widgets.Button(description='Add')\n",
    "sendLive = widgets.Checkbox(value=False,description='Send Live',disabled=False,indent=False)\n",
    "setHome = widgets.Button(description='Set As Home')\n",
    "commandDisp = widgets.Select(options=commands, description='Commands:')\n",
    "removeLine = widgets.Button(description='Remove Line')\n",
    "sendAll = widgets.Button(description='Send All')\n",
    "wrist2KeepLevel = widgets.Checkbox(value=False,description=\"Keep Level\",disabled=False, indent=False)\n",
    "\n",
    "grid = widgets.GridspecLayout(6, 2,  height='300px')\n",
    "grid[0,0] = baseSlider\n",
    "grid[1,0] = shoulderSlider\n",
    "grid[2,0] = elbowSlider\n",
    "grid[3,0] = addToCommands\n",
    "grid[4,:] = commandDisp\n",
    "grid[5,0] = removeLine\n",
    "grid[0,1] = wrist1Slider\n",
    "grid[1,1] = widgets.HBox([wrist2Slider,wrist2KeepLevel])\n",
    "grid[2,1] = wrist3Slider\n",
    "grid[3,1] = widgets.HBox([sendLive,setHome])\n",
    "grid[5,1] = sendAll\n",
    "display(grid)\n",
    "\n",
    "def makeCommand():\n",
    "    command = '0{} 1{} 2{} 3{} 4{} 5{}\\n'.format(baseSlider.value,shoulderSlider.value,elbowSlider.value,wrist1Slider.value,wrist2Slider.value,wrist3Slider.value)\n",
    "    return command\n",
    "\n",
    "def addToCommands_eventhandler(obj):\n",
    "    commands.append(makeCommand())\n",
    "    commandDisp.options=commands\n",
    "    \n",
    "addToCommands.on_click(addToCommands_eventhandler)\n",
    "\n",
    "def setHome_eventhandler(obj):\n",
    "    ser.write(b's/n')\n",
    "    baseSlider.value=0\n",
    "    shoulderSlider.value=0\n",
    "    elbowSlider.value=0\n",
    "    wrist1Slider.value=0\n",
    "    wrist2Slider.value=0\n",
    "    wrist3Slider.value=0\n",
    "setHome.on_click(setHome_eventhandler)\n",
    "\n",
    "originalWrist2 = 1\n",
    "\n",
    "def keepLevelObserver(change):\n",
    "    global originalWrist2\n",
    "    if wrist2KeepLevel.value:\n",
    "        originalWrist2 = wrist2Slider.value+shoulderSlider.value+elbowSlider.value\n",
    "        \n",
    "wrist2KeepLevel.observe(keepLevelObserver, names=\"value\")\n",
    "        \n",
    "def coordinateObserver(change):\n",
    "    if wrist2KeepLevel.value:\n",
    "        wrist2Slider.value=originalWrist2-shoulderSlider.value-elbowSlider.value\n",
    "    if sendLive.value:\n",
    "        ser.write(makeCommand().encode('ASCII'))\n",
    "    \n",
    "baseSlider.observe(coordinateObserver,names=\"value\")\n",
    "shoulderSlider.observe(coordinateObserver,names=\"value\")\n",
    "elbowSlider.observe(coordinateObserver,names=\"value\")\n",
    "wrist1Slider.observe(coordinateObserver,names=\"value\")\n",
    "wrist2Slider.observe(coordinateObserver,names=\"value\")\n",
    "wrist3Slider.observe(coordinateObserver,names=\"value\")\n",
    "\n",
    "def removeLine_eventhandler(obj):\n",
    "    commands.pop(commandDisp.index)\n",
    "    commandDisp.options=commands\n",
    "\n",
    "removeLine.on_click(removeLine_eventhandler)\n",
    "\n",
    "def sendAll_eventhandler(obj):\n",
    "    for command in commands:\n",
    "        print(command)\n",
    "        ser.write(command.encode('ASCII'))\n",
    "        ser.readline()\n",
    "\n",
    "sendAll.on_click(sendAll_eventhandler)\n",
    "\n",
    "\n"
   ]
  },
  {
   "cell_type": "code",
   "execution_count": 11,
   "id": "886b4f66-15ad-4db9-a6ad-6a64fcdda48e",
   "metadata": {},
   "outputs": [],
   "source": [
    "ser.close() "
   ]
  },
  {
   "cell_type": "code",
   "execution_count": 27,
   "id": "7d8675df-3aca-4338-bbbd-9a93756fd5b0",
   "metadata": {},
   "outputs": [
    {
     "data": {
      "text/plain": [
       "3"
      ]
     },
     "execution_count": 27,
     "metadata": {},
     "output_type": "execute_result"
    }
   ],
   "source": [
    "commandDisp.index"
   ]
  }
 ],
 "metadata": {
  "kernelspec": {
   "display_name": "Python 3 (ipykernel)",
   "language": "python",
   "name": "python3"
  },
  "language_info": {
   "codemirror_mode": {
    "name": "ipython",
    "version": 3
   },
   "file_extension": ".py",
   "mimetype": "text/x-python",
   "name": "python",
   "nbconvert_exporter": "python",
   "pygments_lexer": "ipython3",
   "version": "3.8.3"
  }
 },
 "nbformat": 4,
 "nbformat_minor": 5
}
